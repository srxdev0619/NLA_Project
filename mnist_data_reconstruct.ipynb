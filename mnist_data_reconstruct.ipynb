{
 "cells": [
  {
   "cell_type": "code",
   "execution_count": 1,
   "metadata": {
    "collapsed": true
   },
   "outputs": [],
   "source": [
    "from __future__ import absolute_import\n",
    "from __future__ import print_function\n",
    "from __future__ import division\n",
    "import tensorflow as tf\n",
    "import numpy as np\n",
    "import scipy.misc\n",
    "import scipy\n",
    "import random\n",
    "from tensorflow.examples.tutorials.mnist import input_data\n",
    "\n",
    "sess = tf.InteractiveSession()"
   ]
  },
  {
   "cell_type": "code",
   "execution_count": null,
   "metadata": {
    "collapsed": false
   },
   "outputs": [
    {
     "name": "stdout",
     "output_type": "stream",
     "text": [
      "Extracting MNIST_data/train-images-idx3-ubyte.gz\n",
      "Extracting MNIST_data/train-labels-idx1-ubyte.gz\n",
      "Extracting MNIST_data/t10k-images-idx3-ubyte.gz\n",
      "Extracting MNIST_data/t10k-labels-idx1-ubyte.gz\n"
     ]
    },
    {
     "name": "stderr",
     "output_type": "stream",
     "text": [
      "/home/aaragon/anaconda2/envs/tensorflow/lib/python2.7/site-packages/ipykernel/__main__.py:39: RuntimeWarning: overflow encountered in multiply\n"
     ]
    }
   ],
   "source": [
    "mnist = input_data.read_data_sets('MNIST_data', one_hot=True)\n",
    "\n",
    "conv1_act = np.load('./data_rep/Conv1_Activations_5000_good.npy')\n",
    "\n",
    "C = 1\n",
    "M = 16\n",
    "N = 32\n",
    "\n",
    "def conv2d(x, W):\n",
    "    return tf.nn.conv2d(x, W, strides=[1, 1, 1, 1], padding='SAME')\n",
    "\n",
    "def residuals(x, mnist, conv1_act, N, M):\n",
    "    a = x[:N*M].reshape(N,M)\n",
    "    s = x[N*M: N*M + 5*5*M]\n",
    "    s = s.reshape(5,5,M)\n",
    "    b = x[5*5*M + N*M:]\n",
    "    w_shape = (s.shape[0], s.shape[1], a.shape[0])\n",
    "    #print(w_shape)\n",
    "    w = np.zeros(w_shape)\n",
    "    for i in range(a.shape[0]):\n",
    "        aw = a[i][:]\n",
    "        temp_w = np.zeros(s[:,:,0].shape)\n",
    "        for j in range(a.shape[1]):\n",
    "            temp_w += aw[j]*s[:,:,j]\n",
    "        w[:,:,i] = temp_w\n",
    "        \n",
    "    x = tf.placeholder(tf.float32, shape=[None, 784])\n",
    "    x_image = tf.reshape(x, [-1,28,28,1])\n",
    "    b = b.astype(dtype=np.float32)\n",
    "    b_tf = tf.constant(b)\n",
    "    w = w.astype(dtype=np.float32)\n",
    "    ws = w.shape\n",
    "    w = w.reshape(ws[0], ws[1], 1, ws[2])\n",
    "    weights_tf = tf.constant(w)\n",
    "    conv1_pred = tf.nn.relu(conv2d(x_image, weights_tf) + b_tf)\n",
    "    conv1_pred_np = conv1_pred.eval(feed_dict={x: mnist.train.images[:5000]})\n",
    "    \n",
    "    diff = conv1_act - conv1_pred_np\n",
    "    diff = np.multiply(diff, diff)\n",
    "    norm_cost = 0.0\n",
    "    for i in range(s.shape[2]):\n",
    "        norm_cost += np.linalg.norm(s[:,:,i], ord='nuc')\n",
    "    cost = 0.001*np.sum(diff) + 0.00001*np.sum(np.multiply(w,w)) + norm_cost\n",
    "    return cost\n",
    "\n",
    "\n",
    "a0 = np.random.randn(N,M)\n",
    "w0 = np.random.randn(5,5,M)\n",
    "b0 = np.random.randn(N,)\n",
    "\n",
    "x0 = np.concatenate((a0.reshape(N*M), w0.reshape(5*5*M),b0))\n",
    "\n",
    "\n",
    "xf = scipy.optimize.minimize(residuals, x0=x0, method='CG', args=(mnist, conv1_act, N, M)\n",
    "                             ,options={'disp':True, 'maxiter':20})\n"
   ]
  },
  {
   "cell_type": "code",
   "execution_count": null,
   "metadata": {
    "collapsed": false
   },
   "outputs": [],
   "source": [
    "xf.x[2]"
   ]
  },
  {
   "cell_type": "code",
   "execution_count": null,
   "metadata": {
    "collapsed": false
   },
   "outputs": [],
   "source": [
    "residuals(xf.x, mnist, conv1_act)"
   ]
  },
  {
   "cell_type": "code",
   "execution_count": null,
   "metadata": {
    "collapsed": false
   },
   "outputs": [],
   "source": [
    "xf.message"
   ]
  },
  {
   "cell_type": "code",
   "execution_count": null,
   "metadata": {
    "collapsed": false
   },
   "outputs": [],
   "source": [
    "residuals(x0, mnist, conv1_act)"
   ]
  },
  {
   "cell_type": "code",
   "execution_count": null,
   "metadata": {
    "collapsed": true
   },
   "outputs": [],
   "source": []
  }
 ],
 "metadata": {
  "anaconda-cloud": {},
  "kernelspec": {
   "display_name": "Python [conda env:tensorflow]",
   "language": "python",
   "name": "conda-env-tensorflow-py"
  },
  "language_info": {
   "codemirror_mode": {
    "name": "ipython",
    "version": 2
   },
   "file_extension": ".py",
   "mimetype": "text/x-python",
   "name": "python",
   "nbconvert_exporter": "python",
   "pygments_lexer": "ipython2",
   "version": "2.7.12"
  }
 },
 "nbformat": 4,
 "nbformat_minor": 1
}

{
 "cells": [
  {
   "cell_type": "code",
   "execution_count": null,
   "metadata": {
    "collapsed": false
   },
   "outputs": [],
   "source": [
    "import numpy as np\n",
    "import cvxpy as cvx\n",
    "import scipy\n",
    "from scipy import optimize\n",
    "from scipy.optimize import minimize\n",
    "\n",
    "def fun(x,a,shp):\n",
    "    return np.linalg.norm(x-a,2)\n",
    "\n",
    "shp = (30,30)\n",
    "x0 = np.zeros(shp[0]*shp[1])\n",
    "a = np.random.rand(shp[0],shp[1])\n",
    "a = a.flatten()\n",
    "res = scipy.optimize.minimize(fun, x0, args=(a,shp),callback=None)\n",
    "#print (res)\n",
    "print ((a[:5]))\n",
    "print ((res['x'][:5]))\n",
    "\n",
    "x = np.reshape(res['x'],shp)\n",
    "\n",
    "# x = np.reshape(res,shp)\n",
    "a = np.reshape(a,shp)\n",
    "print (round((np.linalg.norm((x - a),'fro'))*100/np.linalg.norm( a),20),\"%\")\n"
   ]
  },
  {
   "cell_type": "markdown",
   "metadata": {},
   "source": [
    "# reshape in function "
   ]
  },
  {
   "cell_type": "code",
   "execution_count": null,
   "metadata": {
    "collapsed": false
   },
   "outputs": [],
   "source": [
    "import numpy as np\n",
    "import cvxpy as cvx\n",
    "import scipy\n",
    "from scipy import optimize\n",
    "from scipy.optimize import minimize\n",
    "\n",
    "# objective function to minimize:\n",
    "# Sum (W - Sum a*s)\n",
    "\n",
    "N = 32 #number of filters\n",
    "M = 8\n",
    "\n",
    "#filter sizes:\n",
    "\n",
    "n = 3\n",
    "m = 3\n",
    "\n",
    "#generate random sequence of filters\n",
    "W = []\n",
    "for i in range(N):\n",
    "    W.append(np.random.rand(n,m))\n",
    "\n",
    "\n",
    "#definition of the objective function\n",
    "def fun(params, W, n, m, N, M):\n",
    "\n",
    "    #recovering the original structure of parameters\n",
    "    A = params[:N*M].reshape((N,M))\n",
    "    X = params[N*M:].reshape((M,n,m))\n",
    "\n",
    "    #print(\"A.Shape: \", A.shape)\n",
    "    #print(\"X.Shape: \", X.shape)\n",
    "    \n",
    "    res = 0\n",
    "    for i in range(N):\n",
    "        \n",
    "        # calculating the linear combination of matrices\n",
    "        a_X = 0\n",
    "        for j in range(M):\n",
    "            a_X += A[i,j]*X[j,:,:]\n",
    "            #print(\"-\"*5,j)\n",
    "            \n",
    "        # calculating sum of\n",
    "        res += np.linalg.norm(W[i] - a_X, 2)\n",
    "        \n",
    "    return res\n",
    "\n",
    "\n",
    "shape = (n,m)\n",
    "params = []\n",
    "\n",
    "#initializing coefficients for linear combination\n",
    "params = np.random.rand(N*M+M*n*m)  # N*M for lc coefiicients and m*n*M for matrix weights\n",
    "\n",
    "res = scipy.optimize.minimize(fun, params, args=(W,n,m,N,M), callback=None)\n",
    "\n",
    "vals = res['x']\n",
    "\n",
    "A = vals[:N*M].reshape((N,M))\n",
    "X = vals[N*M:].reshape((M,n,m))\n",
    "\n",
    "#print (\"weights are:\")\n",
    "#print (A)\n",
    "\n",
    "#print (\"basis filters are:\")\n",
    "#print (W)\n",
    "\n",
    "#random check\n",
    "for i in range(N):\n",
    "    coeff_i = A[i,:]\n",
    "    A_sum = 0\n",
    "    for j in range(M):\n",
    "        A_sum += coeff_i[j]*X[j]\n",
    "    print (\"approximation of matrix\", i)\n",
    "    print (np.round((np.linalg.norm(W[i] - A_sum, 2))*100, 5), \"%\")"
   ]
  },
  {
   "cell_type": "code",
   "execution_count": null,
   "metadata": {
    "collapsed": true
   },
   "outputs": [],
   "source": []
  },
  {
   "cell_type": "code",
   "execution_count": null,
   "metadata": {
    "collapsed": false
   },
   "outputs": [],
   "source": [
    "X = params[1].reshape((M,n,m))\n",
    "A = params[0].reshape((N,M))\n",
    "\n",
    "print(A[0,:])\n",
    "print(X[1,:,:])"
   ]
  },
  {
   "cell_type": "code",
   "execution_count": null,
   "metadata": {
    "collapsed": true
   },
   "outputs": [],
   "source": []
  },
  {
   "cell_type": "code",
   "execution_count": null,
   "metadata": {
    "collapsed": true
   },
   "outputs": [],
   "source": []
  },
  {
   "cell_type": "code",
   "execution_count": null,
   "metadata": {
    "collapsed": true
   },
   "outputs": [],
   "source": []
  },
  {
   "cell_type": "code",
   "execution_count": null,
   "metadata": {
    "collapsed": true
   },
   "outputs": [],
   "source": []
  },
  {
   "cell_type": "code",
   "execution_count": null,
   "metadata": {
    "collapsed": true
   },
   "outputs": [],
   "source": []
  },
  {
   "cell_type": "code",
   "execution_count": 18,
   "metadata": {
    "collapsed": false
   },
   "outputs": [
    {
     "name": "stdout",
     "output_type": "stream",
     "text": [
      "(32, 9)\n",
      "(32, 5)\n",
      "(5, 9)\n"
     ]
    }
   ],
   "source": [
    "import numpy as np\n",
    "import cvxpy as cvx\n",
    "import scipy\n",
    "from scipy import optimize\n",
    "from scipy.optimize import minimize\n",
    "\n",
    "\n",
    "# objective function to minimize:\n",
    "# Sum (W - Sum a*s)\n",
    "\n",
    "N = 32 #number of filters\n",
    "M = 5\n",
    "\n",
    "#filter sizes:\n",
    "n = 3\n",
    "m = 3\n",
    "\n",
    "#generate random sequence of filters\n",
    "\n",
    "W = np.random.rand(N, n*m) \n",
    "\n",
    "A_var = cvx.Variable(N, M)\n",
    "X_var = cvx.Variable(M, n*m)\n",
    "\n",
    "A = np.ones((N, M))\n",
    "X = np.ones((M, n*m))\n",
    "\n",
    "print(W.shape)\n",
    "print(A.shape)\n",
    "print(X.shape)\n",
    "\n",
    "objective_X = cvx.Minimize(cvx.norm(W - A*X_var, 2))\n",
    "objective_A = cvx.Minimize(cvx.norm(W - A_var*X, 2))\n",
    "\n",
    "problem_X = cvx.Problem(objective_X, [])\n",
    "problem_A = cvx.Problem(objective_X, [])"
   ]
  },
  {
   "cell_type": "code",
   "execution_count": 22,
   "metadata": {
    "collapsed": false
   },
   "outputs": [
    {
     "name": "stdout",
     "output_type": "stream",
     "text": [
      "FATAL: Cannot solve SDPs with > 2x2 matrices without linked blas+lapack libraries\n",
      "Install blas+lapack and re-compile SCS with blas+lapack libray locations\n",
      "ERROR: initCone failure\n",
      "Failure:could not initialize work\n"
     ]
    },
    {
     "ename": "SolverError",
     "evalue": "Solver 'SCS' failed. Try another solver.",
     "output_type": "error",
     "traceback": [
      "\u001b[0;31m---------------------------------------------------------------------------\u001b[0m",
      "\u001b[0;31mSolverError\u001b[0m                               Traceback (most recent call last)",
      "\u001b[0;32m<ipython-input-22-044926d5368b>\u001b[0m in \u001b[0;36m<module>\u001b[0;34m()\u001b[0m\n\u001b[0;32m----> 1\u001b[0;31m \u001b[0mresult_A\u001b[0m \u001b[1;33m=\u001b[0m \u001b[0mproblem_A\u001b[0m\u001b[1;33m.\u001b[0m\u001b[0msolve\u001b[0m\u001b[1;33m(\u001b[0m\u001b[1;33m)\u001b[0m\u001b[1;33m\u001b[0m\u001b[0m\n\u001b[0m",
      "\u001b[0;32mC:\\Program Files\\Anaconda3\\lib\\site-packages\\cvxpy\\problems\\problem.py\u001b[0m in \u001b[0;36msolve\u001b[0;34m(self, *args, **kwargs)\u001b[0m\n\u001b[1;32m    193\u001b[0m             \u001b[1;32mreturn\u001b[0m \u001b[0mfunc\u001b[0m\u001b[1;33m(\u001b[0m\u001b[0mself\u001b[0m\u001b[1;33m,\u001b[0m \u001b[1;33m*\u001b[0m\u001b[0margs\u001b[0m\u001b[1;33m,\u001b[0m \u001b[1;33m**\u001b[0m\u001b[0mkwargs\u001b[0m\u001b[1;33m)\u001b[0m\u001b[1;33m\u001b[0m\u001b[0m\n\u001b[1;32m    194\u001b[0m         \u001b[1;32melse\u001b[0m\u001b[1;33m:\u001b[0m\u001b[1;33m\u001b[0m\u001b[0m\n\u001b[0;32m--> 195\u001b[0;31m             \u001b[1;32mreturn\u001b[0m \u001b[0mself\u001b[0m\u001b[1;33m.\u001b[0m\u001b[0m_solve\u001b[0m\u001b[1;33m(\u001b[0m\u001b[1;33m*\u001b[0m\u001b[0margs\u001b[0m\u001b[1;33m,\u001b[0m \u001b[1;33m**\u001b[0m\u001b[0mkwargs\u001b[0m\u001b[1;33m)\u001b[0m\u001b[1;33m\u001b[0m\u001b[0m\n\u001b[0m\u001b[1;32m    196\u001b[0m \u001b[1;33m\u001b[0m\u001b[0m\n\u001b[1;32m    197\u001b[0m     \u001b[1;33m@\u001b[0m\u001b[0mclassmethod\u001b[0m\u001b[1;33m\u001b[0m\u001b[0m\n",
      "\u001b[0;32mC:\\Program Files\\Anaconda3\\lib\\site-packages\\cvxpy\\problems\\problem.py\u001b[0m in \u001b[0;36m_solve\u001b[0;34m(self, solver, ignore_dcp, warm_start, verbose, parallel, **kwargs)\u001b[0m\n\u001b[1;32m    323\u001b[0m         \u001b[1;32melse\u001b[0m\u001b[1;33m:\u001b[0m\u001b[1;33m\u001b[0m\u001b[0m\n\u001b[1;32m    324\u001b[0m             \u001b[0mresults_dict\u001b[0m \u001b[1;33m=\u001b[0m \u001b[1;33m{\u001b[0m\u001b[0ms\u001b[0m\u001b[1;33m.\u001b[0m\u001b[0mSTATUS\u001b[0m\u001b[1;33m:\u001b[0m \u001b[0msym_data\u001b[0m\u001b[1;33m.\u001b[0m\u001b[0mpresolve_status\u001b[0m\u001b[1;33m}\u001b[0m\u001b[1;33m\u001b[0m\u001b[0m\n\u001b[0;32m--> 325\u001b[0;31m         \u001b[0mself\u001b[0m\u001b[1;33m.\u001b[0m\u001b[0m_update_problem_state\u001b[0m\u001b[1;33m(\u001b[0m\u001b[0mresults_dict\u001b[0m\u001b[1;33m,\u001b[0m \u001b[0msym_data\u001b[0m\u001b[1;33m,\u001b[0m \u001b[0msolver\u001b[0m\u001b[1;33m)\u001b[0m\u001b[1;33m\u001b[0m\u001b[0m\n\u001b[0m\u001b[1;32m    326\u001b[0m         \u001b[1;32mreturn\u001b[0m \u001b[0mself\u001b[0m\u001b[1;33m.\u001b[0m\u001b[0mvalue\u001b[0m\u001b[1;33m\u001b[0m\u001b[0m\n\u001b[1;32m    327\u001b[0m \u001b[1;33m\u001b[0m\u001b[0m\n",
      "\u001b[0;32mC:\\Program Files\\Anaconda3\\lib\\site-packages\\cvxpy\\problems\\problem.py\u001b[0m in \u001b[0;36m_update_problem_state\u001b[0;34m(self, results_dict, sym_data, solver)\u001b[0m\n\u001b[1;32m    435\u001b[0m         \u001b[1;32melse\u001b[0m\u001b[1;33m:\u001b[0m\u001b[1;33m\u001b[0m\u001b[0m\n\u001b[1;32m    436\u001b[0m             raise SolverError(\n\u001b[0;32m--> 437\u001b[0;31m                 \"Solver '%s' failed. Try another solver.\" % solver.name())\n\u001b[0m\u001b[1;32m    438\u001b[0m         \u001b[0mself\u001b[0m\u001b[1;33m.\u001b[0m\u001b[0m_status\u001b[0m \u001b[1;33m=\u001b[0m \u001b[0mresults_dict\u001b[0m\u001b[1;33m[\u001b[0m\u001b[0ms\u001b[0m\u001b[1;33m.\u001b[0m\u001b[0mSTATUS\u001b[0m\u001b[1;33m]\u001b[0m\u001b[1;33m\u001b[0m\u001b[0m\n\u001b[1;32m    439\u001b[0m \u001b[1;33m\u001b[0m\u001b[0m\n",
      "\u001b[0;31mSolverError\u001b[0m: Solver 'SCS' failed. Try another solver."
     ]
    }
   ],
   "source": [
    "result_A = problem_A.solve()"
   ]
  },
  {
   "cell_type": "code",
   "execution_count": null,
   "metadata": {
    "collapsed": true
   },
   "outputs": [],
   "source": []
  }
 ],
 "metadata": {
  "anaconda-cloud": {},
  "kernelspec": {
   "display_name": "Python [conda root]",
   "language": "python",
   "name": "conda-root-py"
  },
  "language_info": {
   "codemirror_mode": {
    "name": "ipython",
    "version": 3
   },
   "file_extension": ".py",
   "mimetype": "text/x-python",
   "name": "python",
   "nbconvert_exporter": "python",
   "pygments_lexer": "ipython3",
   "version": "3.5.2"
  }
 },
 "nbformat": 4,
 "nbformat_minor": 0
}

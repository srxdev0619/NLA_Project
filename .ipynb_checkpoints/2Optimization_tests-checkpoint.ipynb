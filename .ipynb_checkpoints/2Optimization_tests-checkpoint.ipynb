{
 "cells": [
  {
   "cell_type": "code",
   "execution_count": 152,
   "metadata": {
    "collapsed": false
   },
   "outputs": [
    {
     "name": "stdout",
     "output_type": "stream",
     "text": [
      "[ 0.45646931  0.02676574  0.13646088  0.64354505  0.56537153]\n",
      "[ 0.4564693   0.02676573  0.13646086  0.64354503  0.56537153]\n",
      "2.06407206247e-06 %\n"
     ]
    }
   ],
   "source": [
    "import numpy as np\n",
    "import cvxpy as cvx\n",
    "import scipy\n",
    "from scipy import optimize\n",
    "from scipy.optimize import minimize\n",
    "\n",
    "def fun(x,a,shp):\n",
    "    return np.linalg.norm(x-a,2)\n",
    "\n",
    "shp = (30,30)\n",
    "x0 = np.zeros(shp[0]*shp[1])\n",
    "a = np.random.rand(shp[0],shp[1])\n",
    "a = a.flatten()\n",
    "res = scipy.optimize.minimize(fun, x0, args=(a,shp),callback=None)\n",
    "#print (res)\n",
    "print ((a[:5]))\n",
    "print ((res['x'][:5]))\n",
    "\n",
    "x = np.reshape(res['x'],shp)\n",
    "\n",
    "# x = np.reshape(res,shp)\n",
    "a = np.reshape(a,shp)\n",
    "print (round((np.linalg.norm((x - a),'fro'))*100/np.linalg.norm( a),20),\"%\")\n"
   ]
  },
  {
   "cell_type": "markdown",
   "metadata": {},
   "source": [
    "# reshape in function "
   ]
  },
  {
   "cell_type": "code",
   "execution_count": null,
   "metadata": {
    "collapsed": false
   },
   "outputs": [],
   "source": [
    "import numpy as np\n",
    "import cvxpy as cvx\n",
    "import scipy\n",
    "from scipy import optimize\n",
    "from scipy.optimize import minimize\n",
    "\n",
    "# objective function to minimize:\n",
    "# Sum (W - Sum a*s)\n",
    "\n",
    "N = 32 #number of filters\n",
    "M = 16\n",
    "\n",
    "#filter sizes:\n",
    "n = 5\n",
    "m = 5\n",
    "\n",
    "#generate random sequence of filters\n",
    "W = []\n",
    "for i in range(N):\n",
    "    W.append(np.random.rand(n,m))\n",
    "\n",
    "\n",
    "#definition of the objective function\n",
    "def fun(params, W, n, m, N, M):\n",
    "    #recovering the original structure of parameters\n",
    "    a = params[:N*M]\n",
    "    X = params[N*M:]\n",
    "    \n",
    "    #print(\"A.Shape: \", A.shape)\n",
    "    #print(\"X.Shape: \", X.shape)\n",
    "    \n",
    "    res = 0\n",
    "    for i in range(N):\n",
    "        # calculating the linear combination of matrices\n",
    "        a_X = 0\n",
    "        #print(\"==\"*1,i)\n",
    "        for j in range(M):\n",
    "            a_X += A[i,j]*X[j,:,:]\n",
    "            #print(\"-\"*5,j)\n",
    "            \n",
    "        # calculating sum of\n",
    "        res += np.linalg.norm(W[i] - a_X,2)\n",
    "        \n",
    "    return res\n",
    "\n",
    "\n",
    "shape = (n,m)\n",
    "params = []\n",
    "\n",
    "#initializing coefficients for linear combination\n",
    "params = np.random.rand(N*M+M*n*m)  # N*M for lc coefiicients and m*n*M for matrix weights\n",
    "\n",
    "res = scipy.optimize.minimize(fun, params, args=(W,m,n,M,N),callback=None)\n",
    "\n",
    "vals = res['x']\n",
    "\n",
    "A = vals[:N*M].reshape((N,M))\n",
    "X = vals[N*M:].reshape((M,m,n))\n",
    "\n",
    "print (\"weights are:\")\n",
    "print (A)\n",
    "\n",
    "print (\"basis filters are:\")\n",
    "print (W)\n",
    "\n",
    "#random check\n",
    "for i in range(N):\n",
    "    coeff_i = A[i,:]\n",
    "    A_sum = 0\n",
    "    for j in range(M):\n",
    "        A_sum += coeff_i[j]*X[j]\n",
    "    print (\"approximation of matrix\", i)\n",
    "    print (np.round((np.linalg.norm(W[i] - A_sum,2))*100,5), \"%\")"
   ]
  },
  {
   "cell_type": "code",
   "execution_count": 12,
   "metadata": {
    "collapsed": false
   },
   "outputs": [
    {
     "name": "stdout",
     "output_type": "stream",
     "text": [
      "[ 0.88025705  0.54888287  0.43897375]\n",
      "[[ 0.17225024  0.40304647]\n",
      " [ 0.01965783  0.11206729]]\n"
     ]
    }
   ],
   "source": [
    "X = params[1].reshape((M,n,m))\n",
    "A = params[0].reshape((N,M))\n",
    "\n",
    "print(A[0,:])\n",
    "print(X[1,:,:])"
   ]
  },
  {
   "cell_type": "code",
   "execution_count": null,
   "metadata": {
    "collapsed": true
   },
   "outputs": [],
   "source": []
  },
  {
   "cell_type": "code",
   "execution_count": null,
   "metadata": {
    "collapsed": true
   },
   "outputs": [],
   "source": []
  },
  {
   "cell_type": "code",
   "execution_count": null,
   "metadata": {
    "collapsed": true
   },
   "outputs": [],
   "source": []
  },
  {
   "cell_type": "code",
   "execution_count": null,
   "metadata": {
    "collapsed": true
   },
   "outputs": [],
   "source": []
  },
  {
   "cell_type": "code",
   "execution_count": null,
   "metadata": {
    "collapsed": true
   },
   "outputs": [],
   "source": []
  },
  {
   "cell_type": "code",
   "execution_count": 174,
   "metadata": {
    "collapsed": false
   },
   "outputs": [
    {
     "name": "stdout",
     "output_type": "stream",
     "text": [
      "0.210912247435\n"
     ]
    },
    {
     "name": "stderr",
     "output_type": "stream",
     "text": [
      "/home/pavel/miniconda3/envs/py35/lib/python3.5/site-packages/ipykernel/__main__.py:9: VisibleDeprecationWarning: using a non-integer number instead of an integer will result in an error in the future\n",
      "/home/pavel/miniconda3/envs/py35/lib/python3.5/site-packages/ipykernel/__main__.py:10: VisibleDeprecationWarning: using a non-integer number instead of an integer will result in an error in the future\n"
     ]
    },
    {
     "ename": "ValueError",
     "evalue": "total size of new array must be unchanged",
     "output_type": "error",
     "traceback": [
      "\u001b[1;31m---------------------------------------------------------------------------\u001b[0m",
      "\u001b[1;31mValueError\u001b[0m                                Traceback (most recent call last)",
      "\u001b[1;32m<ipython-input-174-cdd4a1c81b48>\u001b[0m in \u001b[0;36m<module>\u001b[1;34m()\u001b[0m\n\u001b[0;32m     24\u001b[0m \u001b[0mprint\u001b[0m \u001b[1;33m(\u001b[0m\u001b[1;33m(\u001b[0m\u001b[0mres\u001b[0m\u001b[1;33m[\u001b[0m\u001b[1;34m'x'\u001b[0m\u001b[1;33m]\u001b[0m\u001b[1;33m[\u001b[0m\u001b[1;36m0\u001b[0m\u001b[1;33m]\u001b[0m\u001b[1;33m)\u001b[0m\u001b[1;33m)\u001b[0m\u001b[1;33m\u001b[0m\u001b[0m\n\u001b[0;32m     25\u001b[0m \u001b[1;33m\u001b[0m\u001b[0m\n\u001b[1;32m---> 26\u001b[1;33m \u001b[0mx\u001b[0m \u001b[1;33m=\u001b[0m \u001b[0mnp\u001b[0m\u001b[1;33m.\u001b[0m\u001b[0mreshape\u001b[0m\u001b[1;33m(\u001b[0m\u001b[0mres\u001b[0m\u001b[1;33m[\u001b[0m\u001b[1;34m'x'\u001b[0m\u001b[1;33m]\u001b[0m\u001b[1;33m[\u001b[0m\u001b[1;36m0\u001b[0m\u001b[1;33m]\u001b[0m\u001b[1;33m,\u001b[0m\u001b[0mshp\u001b[0m\u001b[1;33m)\u001b[0m\u001b[1;33m\u001b[0m\u001b[0m\n\u001b[0m\u001b[0;32m     27\u001b[0m \u001b[0my\u001b[0m \u001b[1;33m=\u001b[0m \u001b[0mnp\u001b[0m\u001b[1;33m.\u001b[0m\u001b[0mreshape\u001b[0m\u001b[1;33m(\u001b[0m\u001b[0mres\u001b[0m\u001b[1;33m[\u001b[0m\u001b[1;34m'x'\u001b[0m\u001b[1;33m]\u001b[0m\u001b[1;33m[\u001b[0m\u001b[1;36m1\u001b[0m\u001b[1;33m]\u001b[0m\u001b[1;33m,\u001b[0m\u001b[0mshp\u001b[0m\u001b[1;33m)\u001b[0m\u001b[1;33m\u001b[0m\u001b[0m\n\u001b[0;32m     28\u001b[0m \u001b[1;33m\u001b[0m\u001b[0m\n",
      "\u001b[1;32m/home/pavel/miniconda3/envs/py35/lib/python3.5/site-packages/numpy/core/fromnumeric.py\u001b[0m in \u001b[0;36mreshape\u001b[1;34m(a, newshape, order)\u001b[0m\n\u001b[0;32m    223\u001b[0m     \u001b[1;32mexcept\u001b[0m \u001b[0mAttributeError\u001b[0m\u001b[1;33m:\u001b[0m\u001b[1;33m\u001b[0m\u001b[0m\n\u001b[0;32m    224\u001b[0m         \u001b[1;32mreturn\u001b[0m \u001b[0m_wrapit\u001b[0m\u001b[1;33m(\u001b[0m\u001b[0ma\u001b[0m\u001b[1;33m,\u001b[0m \u001b[1;34m'reshape'\u001b[0m\u001b[1;33m,\u001b[0m \u001b[0mnewshape\u001b[0m\u001b[1;33m,\u001b[0m \u001b[0morder\u001b[0m\u001b[1;33m=\u001b[0m\u001b[0morder\u001b[0m\u001b[1;33m)\u001b[0m\u001b[1;33m\u001b[0m\u001b[0m\n\u001b[1;32m--> 225\u001b[1;33m     \u001b[1;32mreturn\u001b[0m \u001b[0mreshape\u001b[0m\u001b[1;33m(\u001b[0m\u001b[0mnewshape\u001b[0m\u001b[1;33m,\u001b[0m \u001b[0morder\u001b[0m\u001b[1;33m=\u001b[0m\u001b[0morder\u001b[0m\u001b[1;33m)\u001b[0m\u001b[1;33m\u001b[0m\u001b[0m\n\u001b[0m\u001b[0;32m    226\u001b[0m \u001b[1;33m\u001b[0m\u001b[0m\n\u001b[0;32m    227\u001b[0m \u001b[1;33m\u001b[0m\u001b[0m\n",
      "\u001b[1;31mValueError\u001b[0m: total size of new array must be unchanged"
     ]
    }
   ],
   "source": [
    "import numpy as np\n",
    "import cvxpy as cvx\n",
    "import scipy\n",
    "from scipy import optimize\n",
    "from scipy.optimize import minimize\n",
    "\n",
    "\n",
    "def fun(x,a,W,shp):\n",
    "    b = x[:len(x)/2]\n",
    "    c = x[len(x)/2:]\n",
    "    b = np.reshape(b,shp)\n",
    "    c = np.reshape(c,shp)\n",
    "    a = np.reshape(a,shp)\n",
    "    return np.linalg.norm(np.matmul(b,c)-a,2)\n",
    "\n",
    "shp = (3,3)\n",
    "x0 = []\n",
    "x0.append(np.zeros(shp[0]*shp[1]))\n",
    "x0.append(np.ones(shp[0]*shp[1]))\n",
    "a = np.random.rand(shp[0],shp[1])\n",
    "a = a.flatten()\n",
    "res = scipy.optimize.minimize(fun, x0, args=(a,shp),callback=None)\n",
    "#print (res)\n",
    "print ((res['x'][0]))\n",
    "\n",
    "x = np.reshape(res['x'][0],shp)\n",
    "y = np.reshape(res['x'][1],shp)\n",
    "\n",
    "# x = np.reshape(res,shp)\n",
    "a = np.reshape(a,shp)\n",
    "print (round((np.linalg.norm((np.matmul(x,y) - a),'fro'))*100/np.linalg.norm(a),20),\"%\")\n"
   ]
  },
  {
   "cell_type": "code",
   "execution_count": null,
   "metadata": {
    "collapsed": true
   },
   "outputs": [],
   "source": []
  }
 ],
 "metadata": {
  "anaconda-cloud": {},
  "kernelspec": {
   "display_name": "Python [conda root]",
   "language": "python",
   "name": "conda-root-py"
  },
  "language_info": {
   "codemirror_mode": {
    "name": "ipython",
    "version": 3
   },
   "file_extension": ".py",
   "mimetype": "text/x-python",
   "name": "python",
   "nbconvert_exporter": "python",
   "pygments_lexer": "ipython3",
   "version": "3.5.2"
  }
 },
 "nbformat": 4,
 "nbformat_minor": 0
}

{
 "cells": [
  {
   "cell_type": "code",
   "execution_count": 1,
   "metadata": {
    "collapsed": false
   },
   "outputs": [
    {
     "name": "stdout",
     "output_type": "stream",
     "text": [
      "Extracting MNIST_data/train-images-idx3-ubyte.gz\n",
      "Extracting MNIST_data/train-labels-idx1-ubyte.gz\n",
      "Extracting MNIST_data/t10k-images-idx3-ubyte.gz\n",
      "Extracting MNIST_data/t10k-labels-idx1-ubyte.gz\n"
     ]
    }
   ],
   "source": [
    "from __future__ import absolute_import\n",
    "from __future__ import print_function\n",
    "from __future__ import division\n",
    "import tensorflow as tf\n",
    "import numpy as np\n",
    "import scipy.misc\n",
    "import scipy\n",
    "import random\n",
    "from tensorflow.examples.tutorials.mnist import input_data\n",
    "\n",
    "sess = tf.InteractiveSession()\n",
    "\n",
    "mnist = input_data.read_data_sets('MNIST_data', one_hot=True)\n",
    "\n",
    "conv1_act = np.load('./data_rep/Conv1_Activations_5000_good.npy')\n",
    "\n",
    "C = 1\n",
    "M = 16\n",
    "N = 32\n",
    "\n",
    "#print(conv1_act.shape)"
   ]
  },
  {
   "cell_type": "code",
   "execution_count": null,
   "metadata": {
    "collapsed": false
   },
   "outputs": [
    {
     "name": "stdout",
     "output_type": "stream",
     "text": [
      "Total Loss at epoch 0:  inf\n",
      "Random Loss at epoch 0:  43.5118\n",
      "Total Loss at epoch 1:  inf\n",
      "Random Loss at epoch 1:  16.315\n",
      "Total Loss at epoch 2:  inf\n",
      "Random Loss at epoch 2:  7.68099\n",
      "Total Loss at epoch 3:  inf\n",
      "Random Loss at epoch 3:  5.39189\n",
      "Total Loss at epoch 4:  inf\n",
      "Random Loss at epoch 4:  3.58342\n",
      "Total Loss at epoch 5:  inf\n",
      "Random Loss at epoch 5:  3.27933\n",
      "Total Loss at epoch 6:  inf\n",
      "Random Loss at epoch 6:  3.31723\n",
      "Total Loss at epoch 7:  inf\n",
      "Random Loss at epoch 7:  2.25819\n",
      "Total Loss at epoch 8:  inf\n",
      "Random Loss at epoch 8:  2.94452\n",
      "Total Loss at epoch 9:  inf\n",
      "Random Loss at epoch 9:  2.13086\n",
      "Total Loss at epoch 10:  inf\n",
      "Random Loss at epoch 10:  1.58604\n",
      "Total Loss at epoch 11:  inf\n",
      "Random Loss at epoch 11:  2.12448\n",
      "Total Loss at epoch 12:  inf\n",
      "Random Loss at epoch 12:  1.83808\n",
      "Total Loss at epoch 13:  inf\n",
      "Random Loss at epoch 13:  1.68655\n",
      "Total Loss at epoch 14:  inf\n",
      "Random Loss at epoch 14:  1.58672\n",
      "Total Loss at epoch 15:  inf\n",
      "Random Loss at epoch 15:  1.46189\n",
      "Total Loss at epoch 16:  inf\n",
      "Random Loss at epoch 16:  0.736202\n",
      "Total Loss at epoch 17:  inf\n",
      "Random Loss at epoch 17:  0.519934\n",
      "Total Loss at epoch 18:  inf\n",
      "Random Loss at epoch 18:  0.753323\n",
      "Total Loss at epoch 19:  inf\n",
      "Random Loss at epoch 19:  0.663875\n",
      "Total Loss at epoch 20:  inf\n",
      "Random Loss at epoch 20:  0.622102\n",
      "Total Loss at epoch 21:  inf\n",
      "Random Loss at epoch 21:  0.242697\n",
      "Total Loss at epoch 22:  inf\n",
      "Random Loss at epoch 22:  0.144585\n",
      "Total Loss at epoch 23:  inf\n",
      "Random Loss at epoch 23:  0.116941\n",
      "Total Loss at epoch 24:  inf\n",
      "Random Loss at epoch 24:  0.107641\n",
      "Total Loss at epoch 25:  inf\n",
      "Random Loss at epoch 25:  0.0912708\n",
      "Total Loss at epoch 26:  inf\n",
      "Random Loss at epoch 26:  0.0842372\n",
      "Total Loss at epoch 27:  inf\n",
      "Random Loss at epoch 27:  0.0793288\n",
      "Total Loss at epoch 28:  inf\n",
      "Random Loss at epoch 28:  0.0910424\n",
      "Total Loss at epoch 29:  inf\n",
      "Random Loss at epoch 29:  0.107057\n",
      "Total Loss at epoch 30:  inf\n",
      "Random Loss at epoch 30:  0.103483\n",
      "Total Loss at epoch 31:  inf\n",
      "Random Loss at epoch 31:  0.0752151\n",
      "Total Loss at epoch 32:  inf\n",
      "Random Loss at epoch 32:  0.0808887\n",
      "Total Loss at epoch 33:  inf\n",
      "Random Loss at epoch 33:  0.0804594\n",
      "Total Loss at epoch 34:  inf\n",
      "Random Loss at epoch 34:  0.0806461\n",
      "Total Loss at epoch 35:  inf\n",
      "Random Loss at epoch 35:  0.081187\n",
      "Total Loss at epoch 36:  inf\n",
      "Random Loss at epoch 36:  0.0690897\n",
      "Total Loss at epoch 37:  inf\n",
      "Random Loss at epoch 37:  0.0845899\n",
      "Total Loss at epoch 38:  inf\n",
      "Random Loss at epoch 38:  0.0769539\n",
      "Total Loss at epoch 39:  inf\n",
      "Random Loss at epoch 39:  0.0789405\n",
      "Total Loss at epoch 40:  inf\n",
      "Random Loss at epoch 40:  0.0800842\n",
      "Total Loss at epoch 41:  inf\n",
      "Random Loss at epoch 41:  0.0762763\n",
      "Total Loss at epoch 42:  inf\n",
      "Random Loss at epoch 42:  0.0785074\n",
      "Total Loss at epoch 43:  inf\n",
      "Random Loss at epoch 43:  0.0734948\n",
      "Total Loss at epoch 44:  inf\n",
      "Random Loss at epoch 44:  0.0849269\n",
      "Total Loss at epoch 45:  inf\n",
      "Random Loss at epoch 45:  0.0706632\n",
      "Total Loss at epoch 46:  inf\n",
      "Random Loss at epoch 46:  0.0843944\n",
      "Total Loss at epoch 47:  inf\n",
      "Random Loss at epoch 47:  0.0601764\n",
      "Total Loss at epoch 48:  inf\n",
      "Random Loss at epoch 48:  0.0843325\n",
      "Total Loss at epoch 49:  inf\n",
      "Random Loss at epoch 49:  0.0768967\n",
      "Total Loss at epoch 50:  inf\n",
      "Random Loss at epoch 50:  0.0703719\n",
      "Total Loss at epoch 51:  inf\n",
      "Random Loss at epoch 51:  0.0862447\n",
      "Total Loss at epoch 52:  inf\n",
      "Random Loss at epoch 52:  0.0982742\n",
      "Total Loss at epoch 53:  inf\n",
      "Random Loss at epoch 53:  0.0637488\n",
      "Total Loss at epoch 54:  inf\n",
      "Random Loss at epoch 54:  0.0702756\n",
      "Total Loss at epoch 55:  inf\n",
      "Random Loss at epoch 55:  0.0971745\n",
      "Total Loss at epoch 56:  inf\n",
      "Random Loss at epoch 56:  0.0767069\n",
      "Total Loss at epoch 57:  inf\n",
      "Random Loss at epoch 57:  0.0835817\n",
      "Total Loss at epoch 58:  inf\n",
      "Random Loss at epoch 58:  0.0639927\n",
      "Total Loss at epoch 59:  inf\n",
      "Random Loss at epoch 59:  0.077613\n"
     ]
    }
   ],
   "source": [
    "def conv2d(x, W):\n",
    "    return tf.nn.conv2d(x, W, strides=[1, 1, 1, 1], padding='SAME')\n",
    "\n",
    "def residuals(x, mnist, C, M, N):\n",
    "    a = tf.Variable(tf.truncated_normal([N,M], stddev=0.1), name=\"a\")\n",
    "    s = tf.Variable(tf.truncated_normal([5,5,1,M], stddev=0.1), name=\"basis\")\n",
    "    b = tf.Variable(tf.constant(0.1, shape=[N]), name=\"bias\")\n",
    "    w = []\n",
    "    for i in range(N):\n",
    "        temp_w = []\n",
    "        for j in range(M):\n",
    "            temp_w.append(a[i,j]*s[:,:,:,j])\n",
    "        w.append(tf.reshape(tf.add_n(temp_w), [5,5,1,1]))\n",
    "    w = tf.concat(3,w)\n",
    "    x_image = tf.reshape(x, [-1,28,28,1])\n",
    "    conv1_pred = tf.nn.relu(conv2d(x_image, w) + b)\n",
    "    return conv1_pred,s \n",
    "\n",
    "x = tf.placeholder(tf.float32, shape=[None, 784])\n",
    "output = tf.placeholder(tf.float32, [None, None, None, None])\n",
    "\n",
    "pred,s = residuals(x, mnist, C, M, N)\n",
    "\n",
    "diff = (output - pred)\n",
    "\n",
    "l2_loss = tf.nn.l2_loss(diff)/10.0 #+ 0.001*tf.reduce_sum(tf.abs(s))\n",
    "\n",
    "train_step = tf.train.AdamOptimizer(1e-4).minimize(l2_loss)\n",
    "\n",
    "epochs = 2000\n",
    "\n",
    "sess.run(tf.global_variables_initializer())\n",
    "#print(np.mean(l2_loss.eval(feed_dict={x:mnist.train.images[10:20], output:conv1_act[10:20,:]})))\n",
    "#print(np.mean(conv1_act))\n",
    "for i in range(epochs):\n",
    "    for j in range(500):\n",
    "        start_idx = j*10\n",
    "        end_idx = (j + 1)*10\n",
    "        train_step.run(feed_dict={x:mnist.train.images[start_idx:end_idx], output:conv1_act[start_idx:end_idx,:]})\n",
    "    print(\"Total Loss at epoch {}: \".format(i), \n",
    "          l2_loss.eval(feed_dict={x:mnist.train.images[:5000], output:conv1_act}))\n",
    "    start_ridx = np.random.randint(0,high=4000)\n",
    "    end_ridx = start_ridx + 10\n",
    "    print(\"Random Loss at epoch {}: \".format(i), \n",
    "          l2_loss.eval(feed_dict={x:mnist.train.images[start_ridx:end_ridx], output:conv1_act[start_ridx:end_ridx,:]}))\n",
    "    #print(np.sum(pred.eval(feed_dict={x:mnist.train.images[:5000], output:conv1_act})))"
   ]
  },
  {
   "cell_type": "code",
   "execution_count": null,
   "metadata": {
    "collapsed": false
   },
   "outputs": [],
   "source": [
    "saver = tf.train.Saver()\n",
    "saver.save(sess, \"MNIST_conv1_reconstruct_2k.ckpt\")"
   ]
  },
  {
   "cell_type": "code",
   "execution_count": null,
   "metadata": {
    "collapsed": false
   },
   "outputs": [],
   "source": [
    "residuals(xf.x, mnist, conv1_act)"
   ]
  },
  {
   "cell_type": "code",
   "execution_count": null,
   "metadata": {
    "collapsed": false
   },
   "outputs": [],
   "source": [
    "xf.message"
   ]
  },
  {
   "cell_type": "code",
   "execution_count": null,
   "metadata": {
    "collapsed": false
   },
   "outputs": [],
   "source": [
    "residuals(x0, mnist, conv1_act)"
   ]
  },
  {
   "cell_type": "code",
   "execution_count": null,
   "metadata": {
    "collapsed": true
   },
   "outputs": [],
   "source": []
  }
 ],
 "metadata": {
  "anaconda-cloud": {},
  "kernelspec": {
   "display_name": "Python [conda env:tensorflow]",
   "language": "python",
   "name": "conda-env-tensorflow-py"
  },
  "language_info": {
   "codemirror_mode": {
    "name": "ipython",
    "version": 2
   },
   "file_extension": ".py",
   "mimetype": "text/x-python",
   "name": "python",
   "nbconvert_exporter": "python",
   "pygments_lexer": "ipython2",
   "version": "2.7.12"
  }
 },
 "nbformat": 4,
 "nbformat_minor": 1
}

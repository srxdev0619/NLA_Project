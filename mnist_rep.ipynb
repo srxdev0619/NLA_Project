{
 "cells": [
  {
   "cell_type": "code",
   "execution_count": 1,
   "metadata": {
    "collapsed": true
   },
   "outputs": [],
   "source": [
    "from __future__ import absolute_import\n",
    "from __future__ import print_function\n",
    "from __future__ import division\n",
    "import tensorflow as tf\n",
    "import numpy as np\n",
    "import scipy.misc\n",
    "import scipy\n",
    "import random\n",
    "from tensorflow.examples.tutorials.mnist import input_data"
   ]
  },
  {
   "cell_type": "code",
   "execution_count": 2,
   "metadata": {
    "collapsed": false
   },
   "outputs": [
    {
     "name": "stdout",
     "output_type": "stream",
     "text": [
      "Extracting MNIST_data/train-images-idx3-ubyte.gz\n",
      "Extracting MNIST_data/train-labels-idx1-ubyte.gz\n",
      "Extracting MNIST_data/t10k-images-idx3-ubyte.gz\n",
      "Extracting MNIST_data/t10k-labels-idx1-ubyte.gz\n"
     ]
    }
   ],
   "source": [
    "mnist = input_data.read_data_sets('MNIST_data', one_hot=True)\n",
    "\n",
    "slim = tf.contrib.slim\n",
    "\n",
    "losses = tf.contrib.losses\n",
    "\n",
    "input_img = tf.placeholder(tf.float32, shape=[None, 784])\n",
    "\n",
    "output = tf.placeholder(tf.float32, shape=[None, 10])\n",
    "\n",
    "x_image = tf.reshape(input_img, [-1,28,28,1])\n",
    "\n",
    "is_training = tf.placeholder(tf.bool)"
   ]
  },
  {
   "cell_type": "code",
   "execution_count": 3,
   "metadata": {
    "collapsed": false
   },
   "outputs": [],
   "source": [
    "net ={}\n",
    "net['Conv1'] = slim.conv2d(x_image, 32, [5,5])\n",
    "net['MaxPool1'] = slim.max_pool2d(net['Conv1'], [2,2])\n",
    "net['Conv2'] = slim.conv2d(net['MaxPool1'], 64, [5,5])\n",
    "net['MaxPool2'] = slim.max_pool2d(net['Conv2'], [2,2])\n",
    "net['flatten'] = slim.flatten(net['MaxPool2'])\n",
    "net['Fc1'] = slim.fully_connected(net['flatten'], 1024)\n",
    "net['dropout'] = slim.dropout(net['Fc1'], 0.5, is_training=is_training)\n",
    "net['output'] = slim.fully_connected(net['dropout'], 10, activation_fn=None)"
   ]
  },
  {
   "cell_type": "code",
   "execution_count": 4,
   "metadata": {
    "collapsed": false
   },
   "outputs": [
    {
     "name": "stdout",
     "output_type": "stream",
     "text": [
      "Current Validation accuracy is at epoch 1: 13.64% \n",
      "Current Validation accuracy is at epoch 2: 17.92% \n",
      "Current Validation accuracy is at epoch 3: 23.62% \n",
      "Current Validation accuracy is at epoch 4: 34.02% \n",
      "Current Validation accuracy is at epoch 5: 39.00% \n",
      "Current Validation accuracy is at epoch 6: 46.84% \n",
      "Current Validation accuracy is at epoch 7: 54.54% \n",
      "Current Validation accuracy is at epoch 8: 48.98% \n",
      "Current Validation accuracy is at epoch 9: 48.20% \n",
      "Current Validation accuracy is at epoch 10: 48.62% \n",
      "Current Validation accuracy is at epoch 11: 46.68% \n",
      "Current Validation accuracy is at epoch 12: 52.22% \n",
      "Current Validation accuracy is at epoch 13: 48.44% \n",
      "Current Validation accuracy is at epoch 14: 45.36% \n",
      "Current Validation accuracy is at epoch 15: 55.48% \n",
      "Current Validation accuracy is at epoch 16: 57.46% \n",
      "Current Validation accuracy is at epoch 17: 60.92% \n",
      "Current Validation accuracy is at epoch 18: 66.52% \n",
      "Current Validation accuracy is at epoch 19: 68.50% \n",
      "Current Validation accuracy is at epoch 20: 67.04% \n",
      "Current Validation accuracy is at epoch 21: 67.98% \n",
      "Current Validation accuracy is at epoch 22: 72.82% \n",
      "Current Validation accuracy is at epoch 23: 76.72% \n",
      "Current Validation accuracy is at epoch 24: 79.20% \n",
      "Current Validation accuracy is at epoch 25: 77.58% \n",
      "Current Validation accuracy is at epoch 26: 74.74% \n",
      "Current Validation accuracy is at epoch 27: 72.68% \n",
      "Current Validation accuracy is at epoch 28: 73.84% \n",
      "Current Validation accuracy is at epoch 29: 76.32% \n",
      "Current Validation accuracy is at epoch 30: 79.22% \n",
      "Current Validation accuracy is at epoch 31: 80.10% \n",
      "Current Validation accuracy is at epoch 32: 79.24% \n",
      "Current Validation accuracy is at epoch 33: 79.30% \n",
      "Current Validation accuracy is at epoch 34: 80.58% \n",
      "Current Validation accuracy is at epoch 35: 81.56% \n",
      "Current Validation accuracy is at epoch 36: 81.46% \n",
      "Current Validation accuracy is at epoch 37: 80.98% \n",
      "Current Validation accuracy is at epoch 38: 80.56% \n",
      "Current Validation accuracy is at epoch 39: 82.52% \n",
      "Current Validation accuracy is at epoch 40: 83.90% \n",
      "Current Validation accuracy is at epoch 41: 84.66% \n",
      "Current Validation accuracy is at epoch 42: 85.36% \n",
      "Current Validation accuracy is at epoch 43: 84.84% \n",
      "Current Validation accuracy is at epoch 44: 85.68% \n",
      "Current Validation accuracy is at epoch 45: 85.96% \n",
      "Current Validation accuracy is at epoch 46: 85.36% \n",
      "Current Validation accuracy is at epoch 47: 86.90% \n",
      "Current Validation accuracy is at epoch 48: 87.28% \n",
      "Current Validation accuracy is at epoch 49: 86.98% \n",
      "Current Validation accuracy is at epoch 50: 86.16% \n",
      "Current Validation accuracy is at epoch 51: 85.48% \n",
      "Current Validation accuracy is at epoch 52: 85.94% \n",
      "Current Validation accuracy is at epoch 53: 86.40% \n",
      "Current Validation accuracy is at epoch 54: 86.52% \n",
      "Current Validation accuracy is at epoch 55: 85.98% \n",
      "Current Validation accuracy is at epoch 56: 85.40% \n",
      "Current Validation accuracy is at epoch 57: 84.62% \n",
      "Current Validation accuracy is at epoch 58: 84.14% \n",
      "Current Validation accuracy is at epoch 59: 83.88% \n",
      "Current Validation accuracy is at epoch 60: 85.26% \n",
      "Current Validation accuracy is at epoch 61: 86.32% \n",
      "Current Validation accuracy is at epoch 62: 86.86% \n",
      "Current Validation accuracy is at epoch 63: 86.86% \n",
      "Current Validation accuracy is at epoch 64: 86.88% \n",
      "Current Validation accuracy is at epoch 65: 86.52% \n",
      "Current Validation accuracy is at epoch 66: 85.68% \n",
      "Current Validation accuracy is at epoch 67: 86.78% \n",
      "Current Validation accuracy is at epoch 68: 88.44% \n",
      "Current Validation accuracy is at epoch 69: 89.12% \n",
      "Current Validation accuracy is at epoch 70: 89.88% \n",
      "Current Validation accuracy is at epoch 71: 90.24% \n",
      "Current Validation accuracy is at epoch 72: 89.52% \n",
      "Current Validation accuracy is at epoch 73: 89.06% \n",
      "Current Validation accuracy is at epoch 74: 88.90% \n",
      "Current Validation accuracy is at epoch 75: 88.96% \n",
      "Current Validation accuracy is at epoch 76: 87.86% \n",
      "Current Validation accuracy is at epoch 77: 86.88% \n",
      "Current Validation accuracy is at epoch 78: 86.34% \n",
      "Current Validation accuracy is at epoch 79: 86.08% \n",
      "Current Validation accuracy is at epoch 80: 85.48% \n",
      "Current Validation accuracy is at epoch 81: 85.98% \n",
      "Current Validation accuracy is at epoch 82: 86.26% \n",
      "Current Validation accuracy is at epoch 83: 87.02% \n",
      "Current Validation accuracy is at epoch 84: 87.52% \n",
      "Current Validation accuracy is at epoch 85: 88.06% \n",
      "Current Validation accuracy is at epoch 86: 88.26% \n",
      "Current Validation accuracy is at epoch 87: 88.52% \n",
      "Current Validation accuracy is at epoch 88: 88.74% \n",
      "Current Validation accuracy is at epoch 89: 88.84% \n",
      "Current Validation accuracy is at epoch 90: 89.00% \n",
      "Current Validation accuracy is at epoch 91: 88.94% \n",
      "Current Validation accuracy is at epoch 92: 88.84% \n",
      "Current Validation accuracy is at epoch 93: 88.56% \n",
      "Current Validation accuracy is at epoch 94: 88.74% \n",
      "Current Validation accuracy is at epoch 95: 89.54% \n",
      "Current Validation accuracy is at epoch 96: 90.46% \n",
      "Current Validation accuracy is at epoch 97: 91.16% \n",
      "Current Validation accuracy is at epoch 98: 91.96% \n",
      "Current Validation accuracy is at epoch 99: 91.90% \n",
      "Current Validation accuracy is at epoch 100: 91.74% \n",
      "The test accuracy is: 92.0000016689 %\n"
     ]
    }
   ],
   "source": [
    "cross_entropy_loss = tf.reduce_mean(losses.softmax_cross_entropy(net['output'], output))\n",
    "\n",
    "train_step = tf.train.AdamOptimizer().minimize(cross_entropy_loss)\n",
    "#train_step = tf.train.RMSPropOptimizer(0.001, 0.9).minimize(cross_entropy_loss)\n",
    "correct_prediction = tf.equal(tf.argmax(net['output'], 1), tf.argmax(output, 1))\n",
    "\n",
    "accuracy = tf.reduce_mean(tf.cast(correct_prediction, tf.float32))\n",
    "\n",
    "epochs = 100\n",
    "\n",
    "initial_acc = 0.0\n",
    "\n",
    "saver = tf.train.Saver()\n",
    "with tf .Session() as sess:\n",
    "    sess.run(tf.global_variables_initializer())\n",
    "    for epoch in range(epochs):\n",
    "        batch = mnist.train.next_batch(10)\n",
    "        train_step.run(feed_dict={input_img: batch[0], output: batch[1], is_training:False})\n",
    "        val_accuracy = accuracy.eval(feed_dict={input_img: mnist.validation.images, output:mnist.validation.labels, \n",
    "                                                is_training:False})\n",
    "        if val_accuracy > initial_acc:\n",
    "            initial_acc = val_accuracy\n",
    "            saver.save(sess,\"Mnist_NLA_rep2.ckpt\")\n",
    "        print(\"Current Validation accuracy is at epoch {}: {:<4.2%} \".format(epoch + 1, val_accuracy))\n",
    "    test_accuracy = accuracy.eval(feed_dict={input_img:mnist.test.images[:100], output:mnist.test.labels[:100], is_training:False})\n",
    "    print(\"The test accuracy is:\", test_accuracy*100, \"%\")\n"
   ]
  },
  {
   "cell_type": "code",
   "execution_count": null,
   "metadata": {
    "collapsed": false
   },
   "outputs": [],
   "source": []
  },
  {
   "cell_type": "code",
   "execution_count": null,
   "metadata": {
    "collapsed": true
   },
   "outputs": [],
   "source": []
  }
 ],
 "metadata": {
  "anaconda-cloud": {},
  "kernelspec": {
   "display_name": "Python 2",
   "language": "python",
   "name": "python2"
  },
  "language_info": {
   "codemirror_mode": {
    "name": "ipython",
    "version": 2
   },
   "file_extension": ".py",
   "mimetype": "text/x-python",
   "name": "python",
   "nbconvert_exporter": "python",
   "pygments_lexer": "ipython2",
   "version": "2.7.12"
  }
 },
 "nbformat": 4,
 "nbformat_minor": 1
}

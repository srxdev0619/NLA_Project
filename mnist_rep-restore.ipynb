{
 "cells": [
  {
   "cell_type": "code",
   "execution_count": 1,
   "metadata": {
    "collapsed": true
   },
   "outputs": [],
   "source": [
    "from __future__ import absolute_import\n",
    "from __future__ import print_function\n",
    "from __future__ import division\n",
    "import tensorflow as tf\n",
    "import numpy as np\n",
    "import scipy.misc\n",
    "import scipy\n",
    "import random\n",
    "from tensorflow.examples.tutorials.mnist import input_data"
   ]
  },
  {
   "cell_type": "code",
   "execution_count": 2,
   "metadata": {
    "collapsed": false
   },
   "outputs": [
    {
     "name": "stdout",
     "output_type": "stream",
     "text": [
      "Extracting MNIST_data/train-images-idx3-ubyte.gz\n",
      "Extracting MNIST_data/train-labels-idx1-ubyte.gz\n",
      "Extracting MNIST_data/t10k-images-idx3-ubyte.gz\n",
      "Extracting MNIST_data/t10k-labels-idx1-ubyte.gz\n"
     ]
    }
   ],
   "source": [
    "mnist = input_data.read_data_sets('MNIST_data', one_hot=True)\n",
    "\n",
    "slim = tf.contrib.slim\n",
    "\n",
    "losses = tf.contrib.losses\n",
    "\n",
    "input_img = tf.placeholder(tf.float32, shape=[None, 784])\n",
    "\n",
    "output = tf.placeholder(tf.float32, shape=[None, 10])\n",
    "\n",
    "x_image = tf.reshape(input_img, [-1,28,28,1])\n",
    "\n",
    "is_training = tf.placeholder(tf.bool)"
   ]
  },
  {
   "cell_type": "code",
   "execution_count": 3,
   "metadata": {
    "collapsed": false
   },
   "outputs": [],
   "source": [
    "net ={}\n",
    "net['Conv1'] = slim.conv2d(x_image, 32, [5,5])\n",
    "net['MaxPool1'] = slim.max_pool2d(net['Conv1'], [2,2])\n",
    "net['Conv2'] = slim.conv2d(net['MaxPool1'], 64, [5,5])\n",
    "net['MaxPool2'] = slim.max_pool2d(net['Conv2'], [2,2])\n",
    "net['flatten'] = slim.flatten(net['MaxPool2']) #NoFc1 earlier\n",
    "net['Fc1'] = slim.fully_connected(net['flatten'], 1024)\n",
    "net['dropout'] = slim.dropout(net['Fc1'], 0.5, is_training=is_training)\n",
    "net['output'] = slim.fully_connected(net['dropout'], 10, activation_fn=None)"
   ]
  },
  {
   "cell_type": "code",
   "execution_count": 4,
   "metadata": {
    "collapsed": false
   },
   "outputs": [
    {
     "name": "stdout",
     "output_type": "stream",
     "text": [
      "./Mnist_NLA_rep2.ckpt\n",
      "The test accuracy is: 93.9999997616 %\n"
     ]
    }
   ],
   "source": [
    "cross_entropy_loss = tf.reduce_mean(losses.softmax_cross_entropy(net['output'], output))\n",
    "\n",
    "correct_prediction = tf.equal(tf.argmax(net['output'], 1), tf.argmax(output, 1))\n",
    "\n",
    "accuracy = tf.reduce_mean(tf.cast(correct_prediction, tf.float32))\n",
    "\n",
    "epochs = 200\n",
    "\n",
    "initial_acc = 0.0\n",
    "variables_to_restore = slim.get_model_variables()\n",
    "restore = tf.train.Saver(variables_to_restore)\n",
    "print(tf.train.latest_checkpoint('./'))\n",
    "with tf .Session() as sess:\n",
    "    restore.restore(sess, './Mnist_NLA_rep2.ckpt')\n",
    "    test_accuracy = accuracy.eval(feed_dict={input_img:mnist.test.images[:100], output:mnist.test.labels[:100], \n",
    "                                             is_training:False})\n",
    "    print(\"The test accuracy is:\", test_accuracy*100, \"%\")\n",
    "    conv1_act_arr = net['Conv1'].eval(feed_dict={input_img:mnist.train.images[:2000], output:mnist.train.labels[:2000], \n",
    "                                                is_training:False})\n",
    "    conv2_act_arr = net['Conv2'].eval(feed_dict={input_img:mnist.train.images[:2000], output:mnist.train.labels[:2000], \n",
    "                                                is_training:False})\n",
    "    np.save(\"./data_rep/Conv1_Activations_2000_bad\", conv1_act_arr)\n",
    "    np.save(\"./data_rep/Conv2_Activations_2000_bad\", conv2_act_arr)\n",
    "    \n"
   ]
  },
  {
   "cell_type": "code",
   "execution_count": null,
   "metadata": {
    "collapsed": false
   },
   "outputs": [],
   "source": [
    "print(mnist.train.images.shape)"
   ]
  },
  {
   "cell_type": "code",
   "execution_count": null,
   "metadata": {
    "collapsed": true
   },
   "outputs": [],
   "source": []
  }
 ],
 "metadata": {
  "anaconda-cloud": {},
  "kernelspec": {
   "display_name": "Python [conda env:tensorflow]",
   "language": "python",
   "name": "conda-env-tensorflow-py"
  },
  "language_info": {
   "codemirror_mode": {
    "name": "ipython",
    "version": 2
   },
   "file_extension": ".py",
   "mimetype": "text/x-python",
   "name": "python",
   "nbconvert_exporter": "python",
   "pygments_lexer": "ipython2",
   "version": "2.7.12"
  }
 },
 "nbformat": 4,
 "nbformat_minor": 1
}
